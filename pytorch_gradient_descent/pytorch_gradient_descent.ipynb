{
 "cells": [
  {
   "cell_type": "code",
   "execution_count": 1,
   "metadata": {},
   "outputs": [],
   "source": [
    "import numpy\n",
    "import torch"
   ]
  },
  {
   "cell_type": "markdown",
   "metadata": {},
   "source": [
    "### Gradient descent ด้วย Python"
   ]
  },
  {
   "cell_type": "code",
   "execution_count": 2,
   "metadata": {},
   "outputs": [
    {
     "name": "stdout",
     "output_type": "stream",
     "text": [
      "2.0000000000000053\n"
     ]
    }
   ],
   "source": [
    "alpha = 0.02\n",
    "x = 10.0\n",
    "\n",
    "def compute_grad(x):\n",
    "    grad = 2 * x - 4\n",
    "    return grad\n",
    "\n",
    "for _ in range(1000):\n",
    "    x = x - alpha * compute_grad(x)\n",
    "print(x)"
   ]
  },
  {
   "cell_type": "markdown",
   "metadata": {},
   "source": [
    "### Automatic differentiation ด้วย PyTorch\n",
    "\n",
    "ตัวอย่างการคำนวณหา gradient ของฟังก์ชัน $f(x) = x^2 - 4 x$ ที่ $x = 10$ จะได้ค่าเท่ากับ $f'(10) = 2 \\times 10  - 4 = 16$"
   ]
  },
  {
   "cell_type": "code",
   "execution_count": 3,
   "metadata": {},
   "outputs": [
    {
     "name": "stdout",
     "output_type": "stream",
     "text": [
      "tensor(16.)\n"
     ]
    }
   ],
   "source": [
    "x = torch.tensor(10, dtype=torch.float, requires_grad=True) # กำหนดให้ x มี gradient โดยให้ requires_grad=True\n",
    "cost = torch.sum(x * x - 4 * x) # ฟังก์ชันที่เรากำหนด\n",
    "cost.backward() # คำนวณ gradient ด้วย autograd\n",
    "print(x.grad) # สุดท้ายเมื่อปริ้นค่า gradient ออกมาจะได้ tensor([16.]) "
   ]
  },
  {
   "cell_type": "markdown",
   "metadata": {},
   "source": [
    "### Gradient Descent ด้วย PyTorch"
   ]
  },
  {
   "cell_type": "code",
   "execution_count": 4,
   "metadata": {},
   "outputs": [
    {
     "name": "stdout",
     "output_type": "stream",
     "text": [
      "tensor(2.0000, requires_grad=True)\n"
     ]
    }
   ],
   "source": [
    "alpha = 0.02 # กำหนดพารามิเตอร์สำหรับการอัพเดทค่า x\n",
    "x = torch.tensor(10, dtype=torch.float, requires_grad=True)  \n",
    "cost = torch.sum(x * x - 4 * x) # ฟังก์ชันสำหรับกราฟพาราโบลา x ^ 2 + 4 x \n",
    "\n",
    "# รัน gradient descent algorithm 1000 ครั้ง\n",
    "for _ in range(1000):\n",
    "    cost.backward(retain_graph=True) # คำนวณความชันหรือ gradient โดยใช้ autograd ``.backward()``\n",
    "    x.data.sub_(alpha * x.grad) # เทียบเท่ากับ x = x - alpha * f'(x)\n",
    "    x.grad.data.zero_() # หลังจากเราคำนวณ gradient แล้ว เราต้องตั้งค่ากลับไปที่ 0 อีกครั้งหนึ่งเพื่อคำนวณใหม่\n",
    "print(x) # เราจะได้ค่า x ต่ำที่สุดที่ 2"
   ]
  }
 ],
 "metadata": {
  "kernelspec": {
   "display_name": "Python 3",
   "language": "python",
   "name": "python3"
  },
  "language_info": {
   "codemirror_mode": {
    "name": "ipython",
    "version": 3
   },
   "file_extension": ".py",
   "mimetype": "text/x-python",
   "name": "python",
   "nbconvert_exporter": "python",
   "pygments_lexer": "ipython3",
   "version": "3.6.6"
  }
 },
 "nbformat": 4,
 "nbformat_minor": 2
}
